{
 "cells": [
  {
   "cell_type": "code",
   "execution_count": null,
   "id": "44520859",
   "metadata": {},
   "outputs": [],
   "source": [
    "\n"
   ]
  },
  {
   "cell_type": "code",
   "execution_count": 1,
   "id": "ee99df15",
   "metadata": {},
   "outputs": [
    {
     "name": "stdout",
     "output_type": "stream",
     "text": [
      "----------------------------------------------------------------\n",
      "        Layer (type)               Output Shape         Param #\n",
      "================================================================\n",
      "            Conv2d-1           [-1, 16, 79, 79]           1,744\n",
      "         LeakyReLU-2           [-1, 16, 79, 79]               0\n",
      "            Conv2d-3           [-1, 32, 38, 38]          12,832\n",
      "         LeakyReLU-4           [-1, 32, 38, 38]               0\n",
      "            Conv2d-5           [-1, 64, 33, 33]          73,792\n",
      "         LeakyReLU-6           [-1, 64, 33, 33]               0\n",
      "            Conv2d-7          [-1, 128, 15, 15]         204,928\n",
      "         LeakyReLU-8          [-1, 128, 15, 15]               0\n",
      "            Conv2d-9            [-1, 128, 6, 6]         409,728\n",
      "        LeakyReLU-10            [-1, 128, 6, 6]               0\n",
      "           Conv2d-11            [-1, 128, 2, 2]         409,728\n",
      "  ConvTranspose2d-12            [-1, 128, 6, 6]         409,728\n",
      "        LeakyReLU-13            [-1, 128, 6, 6]               0\n",
      "  ConvTranspose2d-14          [-1, 128, 15, 15]         409,728\n",
      "        LeakyReLU-15          [-1, 128, 15, 15]               0\n",
      "  ConvTranspose2d-16           [-1, 64, 33, 33]         204,864\n",
      "        LeakyReLU-17           [-1, 64, 33, 33]               0\n",
      "  ConvTranspose2d-18           [-1, 32, 38, 38]          73,760\n",
      "        LeakyReLU-19           [-1, 32, 38, 38]               0\n",
      "  ConvTranspose2d-20           [-1, 16, 79, 79]          12,816\n",
      "        LeakyReLU-21           [-1, 16, 79, 79]               0\n",
      "  ConvTranspose2d-22            [-1, 3, 84, 84]           1,731\n",
      "================================================================\n",
      "Total params: 2,225,379\n",
      "Trainable params: 2,225,379\n",
      "Non-trainable params: 0\n",
      "----------------------------------------------------------------\n",
      "Input size (MB): 0.08\n",
      "Forward/backward pass size (MB): 7.77\n",
      "Params size (MB): 8.49\n",
      "Estimated Total Size (MB): 16.34\n",
      "----------------------------------------------------------------\n",
      "(128, 2, 2)\n"
     ]
    }
   ],
   "source": [
    "import torch\n",
    "import torch.nn as nn\n",
    "import numpy as np\n",
    "import torchsummary\n",
    "\n",
    "import tml\n",
    "\n",
    "class AEBase(nn.Module):\n",
    "    \n",
    "    def __init__(self, input_shape=(3,84,84)):\n",
    "        super().__init__()\n",
    "        self.input_shape = input_shape\n",
    "        self.encoder = self._get_encoder()\n",
    "        self.decoder = self._get_decoder()\n",
    "        self.latent_shape = tuple(self.encoder(torch.zeros(2,*input_shape)).shape)[1:]\n",
    "        \n",
    "    def forward(self, x):\n",
    "        z = self.encoder(x)\n",
    "        y = self.decoder(z)\n",
    "        return y\n",
    "\n",
    "    def _get_encoder(self):\n",
    "        raise NotImplementedError()\n",
    "\n",
    "    def _get_decoder(self):\n",
    "        raise NotImplementedError()\n",
    "   \n",
    "    \n",
    "class AEAlex(AEBase):\n",
    "    \n",
    "    def __init__(self, input_shape=(3,84,84), latent_shape=(2*2*128,), dropout=0.5):\n",
    "        self.dropout = dropout\n",
    "        self.latent_shape = latent_shape\n",
    "        super().__init__(input_shape=input_shape)\n",
    "       \n",
    "        \n",
    "    def _get_encoder(self):\n",
    "        return nn.Sequential(\n",
    "            nn.Conv2d(3,16,kernel_size=6,stride=1), nn.LeakyReLU(),\n",
    "            nn.Conv2d(16,32,kernel_size=5,stride=2), nn.LeakyReLU(),\n",
    "            nn.Conv2d(32,64,kernel_size=6,stride=1),  nn.LeakyReLU(),\n",
    "            nn.Conv2d(64,128,kernel_size=5,stride=2), nn.LeakyReLU(),\n",
    "            nn.Conv2d(128,128,kernel_size=5,stride=2), nn.LeakyReLU(),\n",
    "            nn.Conv2d(128,128,kernel_size=5,stride=1),  \n",
    "            tml.View(2*2*128, -1),\n",
    "            nn.Linear(2*2*128, self.latent_shape[0]), \n",
    "            nn.Dropout(self.dropout) if self.dropout > 0 else nn.Identity(),\n",
    "        )\n",
    "    \n",
    "    def _get_decoder(self):\n",
    "        return nn.Sequential(\n",
    "            nn.Linear(self.latent_shape[0], 2*2*128),\n",
    "            tml.View(-1, (128,2,2)),\n",
    "            nn.ConvTranspose2d(128,128,kernel_size=5,stride=1), nn.LeakyReLU(),\n",
    "            nn.ConvTranspose2d(128,128,kernel_size=5,stride=2), nn.LeakyReLU(),\n",
    "            nn.ConvTranspose2d(128,64,kernel_size=5,stride=2), nn.LeakyReLU(),\n",
    "            nn.ConvTranspose2d(64,32,kernel_size=6,stride=1),  nn.LeakyReLU(),\n",
    "            nn.ConvTranspose2d(32,16,kernel_size=5,stride=2), nn.LeakyReLU(),\n",
    "            nn.ConvTranspose2d(16,3,kernel_size=6, stride=1),\n",
    "        )\n",
    "    \n",
    "class AEGDN(AEBase):\n",
    "    \n",
    "    def _get_encoder(self):\n",
    "        return nn.Sequential(\n",
    "            nn.Conv2d(3,16,kernel_size=6,stride=1), tml.GDN(16),\n",
    "            nn.Conv2d(16,32,kernel_size=5,stride=2), tml.GDN(32),\n",
    "            nn.Conv2d(32,64,kernel_size=6,stride=1),  tml.GDN(64),\n",
    "            nn.Conv2d(64,128,kernel_size=5,stride=2), tml.GDN(128),\n",
    "            nn.Conv2d(128,128,kernel_size=5,stride=2),tml.GDN(128),\n",
    "            nn.Conv2d(128,128,kernel_size=5,stride=1), \n",
    "        ) \n",
    "    \n",
    "    def _get_decoder(self):\n",
    "        return nn.Sequential(\n",
    "            nn.ConvTranspose2d(128,128,kernel_size=5,stride=1), tml.GDN(128),\n",
    "            nn.ConvTranspose2d(128,128,kernel_size=5,stride=2), tml.GDN(128),\n",
    "            nn.ConvTranspose2d(128,64,kernel_size=5,stride=2),  tml.GDN(64),\n",
    "            nn.ConvTranspose2d(64,32,kernel_size=6,stride=1),  tml.GDN(32),\n",
    "            nn.ConvTranspose2d(32,16,kernel_size=5,stride=2),  tml.GDN(16),\n",
    "            nn.ConvTranspose2d(16,3,kernel_size=6, stride=1),\n",
    "        )\n",
    "    \n",
    "      \n",
    "class AEConv(AEBase):\n",
    "    \n",
    "    def _get_encoder(self):\n",
    "        return nn.Sequential(\n",
    "            nn.Conv2d(3,16,kernel_size=6,stride=1), nn.LeakyReLU(),\n",
    "            nn.Conv2d(16,32,kernel_size=5,stride=2), nn.LeakyReLU(),\n",
    "            nn.Conv2d(32,64,kernel_size=6,stride=1),  nn.LeakyReLU(),\n",
    "            nn.Conv2d(64,128,kernel_size=5,stride=2), nn.LeakyReLU(),\n",
    "            nn.Conv2d(128,128,kernel_size=5,stride=2), nn.LeakyReLU(),\n",
    "            nn.Conv2d(128,128,kernel_size=5,stride=1), \n",
    "        ) \n",
    "    \n",
    "    def _get_decoder(self):\n",
    "        return nn.Sequential(\n",
    "            nn.ConvTranspose2d(128,128,kernel_size=5,stride=1), nn.LeakyReLU(),\n",
    "            nn.ConvTranspose2d(128,128,kernel_size=5,stride=2), nn.LeakyReLU(),\n",
    "            nn.ConvTranspose2d(128,64,kernel_size=5,stride=2), nn.LeakyReLU(),\n",
    "            nn.ConvTranspose2d(64,32,kernel_size=6,stride=1),  nn.LeakyReLU(),\n",
    "            nn.ConvTranspose2d(32,16,kernel_size=5,stride=2), nn.LeakyReLU(),\n",
    "            nn.ConvTranspose2d(16,3,kernel_size=6, stride=1),\n",
    "        )\n",
    "    \n",
    "model = AEConv()\n",
    "#model = AEAlex()\n",
    "#model = AEGDN()\n",
    "\n",
    "\n",
    "torchsummary.summary(model, input_size=(3,84,84), device=\"cpu\")\n",
    "print(model.latent_shape)"
   ]
  },
  {
   "cell_type": "code",
   "execution_count": 21,
   "id": "adf9232c",
   "metadata": {},
   "outputs": [
    {
     "name": "stdout",
     "output_type": "stream",
     "text": [
      "Found 1 training files.\n",
      "Found 1 validation files.\n",
      "Found 119 test files.\n",
      "torch.Size([4960, 3, 84, 84])\n"
     ]
    },
    {
     "ename": "NameError",
     "evalue": "name 'J' is not defined",
     "output_type": "error",
     "traceback": [
      "\u001b[0;31m---------------------------------------------------------------------------\u001b[0m",
      "\u001b[0;31mNameError\u001b[0m                                 Traceback (most recent call last)",
      "Input \u001b[0;32mIn [21]\u001b[0m, in \u001b[0;36m<module>\u001b[0;34m\u001b[0m\n\u001b[1;32m     18\u001b[0m \u001b[38;5;28;01mimport\u001b[39;00m \u001b[38;5;21;01mtorchvision\u001b[39;00m\n\u001b[1;32m     20\u001b[0m img \u001b[38;5;241m=\u001b[39m torchvision\u001b[38;5;241m.\u001b[39mutils\u001b[38;5;241m.\u001b[39mmake_grid(x[\u001b[38;5;241m16\u001b[39m], nrows\u001b[38;5;241m=\u001b[39m\u001b[38;5;241m2\u001b[39m)\n\u001b[0;32m---> 21\u001b[0m \u001b[43mJ\u001b[49m\u001b[38;5;241m.\u001b[39mimage(img)\n",
      "\u001b[0;31mNameError\u001b[0m: name 'J' is not defined"
     ]
    }
   ],
   "source": [
    "import importlib  \n",
    "import torch\n",
    "wob = importlib.import_module(\"world-of-bugs-experiments\")\n",
    "path = \"/home/ben/Documents/repos/world-of-bugs-experiments/dataset/\"\n",
    "\n",
    "dm = wob.data.WOBDataModule(path, batch_size=256, train_mode=[\"state\"], shuffle_buffer_size=10, train_files=\"NORMAL-TRAIN/ep-0000/*.tar\", in_memory=False, force=False, num_workers=1)\n",
    "dm.prepare_data()\n",
    "loader = dm.train_dataloader()\n",
    "\n",
    "x = torch.cat([x[0] for x in loader])\n",
    "\n",
    "print(x.shape)\n",
    "\n",
    "import jnu as J\n",
    "import torchvision\n",
    "\n",
    "img = torchvision.utils.make_grid(x[::100][:2], nrows=2) * 2\n",
    "\n",
    "J.image(img, scale=10)\n"
   ]
  },
  {
   "cell_type": "code",
   "execution_count": 37,
   "id": "94ef8405",
   "metadata": {},
   "outputs": [
    {
     "name": "stdout",
     "output_type": "stream",
     "text": [
      "Found 1 training files.\n",
      "Found 1 validation files.\n",
      "Found 119 test files.\n",
      "torch.Size([4960, 3, 84, 84])\n"
     ]
    },
    {
     "data": {
      "application/vnd.jupyter.widget-view+json": {
       "model_id": "eebe782409ff4e138438a45f11a0a6fe",
       "version_major": 2,
       "version_minor": 0
      },
      "text/plain": [
       "HBox(children=(Canvas(height=880, width=1740),), layout=Layout(align_items='center', display='flex', flex_flow…"
      ]
     },
     "metadata": {},
     "output_type": "display_data"
    },
    {
     "data": {
      "text/plain": [
       "<jnu.image._image.Image at 0x7f216462fb80>"
      ]
     },
     "execution_count": 37,
     "metadata": {},
     "output_type": "execute_result"
    }
   ],
   "source": [
    "import importlib  \n",
    "import torch\n",
    "wob = importlib.import_module(\"world-of-bugs-experiments\")\n",
    "path = \"/home/ben/Documents/repos/world-of-bugs-experiments/dataset/\"\n",
    "\n",
    "dm = wob.data.WOBDataModule(path, batch_size=256, train_mode=[\"state\"], shuffle_buffer_size=10, train_files=\"TEST/TextureMissing/ep-0000/*.tar\", in_memory=False, force=False, num_workers=1)\n",
    "dm.prepare_data()\n",
    "loader = dm.train_dataloader()\n",
    "\n",
    "x = torch.cat([x[0] for x in loader])\n",
    "\n",
    "\n"
   ]
  },
  {
   "cell_type": "code",
   "execution_count": 50,
   "id": "7fd54173",
   "metadata": {},
   "outputs": [
    {
     "name": "stdout",
     "output_type": "stream",
     "text": [
      "torch.Size([4960, 3, 84, 84])\n",
      "torch.Size([3, 88, 174])\n"
     ]
    },
    {
     "data": {
      "application/vnd.jupyter.widget-view+json": {
       "model_id": "fc66c8f5c2bf4950891c6b5e323e3dd9",
       "version_major": 2,
       "version_minor": 0
      },
      "text/plain": [
       "HBox(children=(Canvas(height=880, width=1740),), layout=Layout(align_items='center', display='flex', flex_flow…"
      ]
     },
     "metadata": {},
     "output_type": "display_data"
    },
    {
     "data": {
      "text/plain": [
       "<jnu.image._image.Image at 0x7f2167f2a760>"
      ]
     },
     "execution_count": 50,
     "metadata": {},
     "output_type": "execute_result"
    }
   ],
   "source": [
    "print(x.shape)\n",
    "\n",
    "import jnu as J\n",
    "import torchvision\n",
    "\n",
    "\n",
    "\n",
    "img = torch.clip(torchvision.utils.make_grid(x[500::200][:2], nrows=2) * 2,0,1)\n",
    "print(img.shape)\n",
    "\n",
    "J.image(img, scale=10)"
   ]
  },
  {
   "cell_type": "code",
   "execution_count": null,
   "id": "2a03d1bd",
   "metadata": {},
   "outputs": [],
   "source": []
  }
 ],
 "metadata": {
  "kernelspec": {
   "display_name": "PhD",
   "language": "python",
   "name": "phd"
  },
  "language_info": {
   "codemirror_mode": {
    "name": "ipython",
    "version": 3
   },
   "file_extension": ".py",
   "mimetype": "text/x-python",
   "name": "python",
   "nbconvert_exporter": "python",
   "pygments_lexer": "ipython3",
   "version": "3.8.12"
  }
 },
 "nbformat": 4,
 "nbformat_minor": 5
}
